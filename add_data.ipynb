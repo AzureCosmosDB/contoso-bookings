{
 "cells": [
  {
   "cell_type": "code",
   "execution_count": 1,
   "metadata": {},
   "outputs": [],
   "source": [
    "    # Define columns to extract\n",
    "columns = [\n",
    "        \"id\", \"listing_url\", \"name\", \"description\",\n",
    "        \"neighborhood_overview\", \"latitude\", \"longitude\", \"price\",\n",
    "        \"amenities\", \"beds\", \"bedrooms\", \"bathrooms\", \"bathrooms_text\",\n",
    "        \"property_type\", \"room_type\", \"host_about\"\n",
    "    ]"
   ]
  },
  {
   "cell_type": "code",
   "execution_count": 1,
   "metadata": {},
   "outputs": [],
   "source": [
    "from dotenv import load_dotenv\n",
    "import os\n",
    "\n",
    "# load_dotenv(\"variables.env\", override=True)"
   ]
  },
  {
   "cell_type": "code",
   "execution_count": 2,
   "metadata": {},
   "outputs": [],
   "source": [
    "MONGO_CONNECTION_STRING= os.getenv(\"MONGO_CONNECTION_STRING_DISKANN\")\n"
   ]
  },
  {
   "cell_type": "code",
   "execution_count": 4,
   "metadata": {},
   "outputs": [
    {
     "name": "stdout",
     "output_type": "stream",
     "text": [
      "Inserted 1434 documents into the 'listings' collection in MongoDB.\n"
     ]
    }
   ],
   "source": [
    "import json\n",
    "from pymongo import MongoClient\n",
    "\n",
    "def json_to_mongo(json_file, collection_name, database_name):\n",
    "    # Load JSON data\n",
    "    with open(json_file, \"r\") as f:\n",
    "        data = json.load(f)\n",
    "\n",
    "    # Add 'data_to_embed' field\n",
    "    for item in data:\n",
    "        item['data_to_embed'] = f\"{item.get('name', '')} {item.get('description', '')} {item.get('neighborhood_overview', '')}\"\n",
    "        item['location'] = {\n",
    "            \"type\": \"Point\",\n",
    "            \"coordinates\": [float(item.get('longitude', 0)), float(item.get('latitude', 0))]\n",
    "        }\n",
    "\n",
    "    # Insert JSON data into MongoDB collection\n",
    "    client = MongoClient(MONGO_CONNECTION_STRING)\n",
    "    db = client[database_name]\n",
    "    collection = db[collection_name]\n",
    "    collection.insert_many(data)\n",
    "    client.close()\n",
    "    print(f\"Inserted {len(data)} documents into the '{collection_name}' collection in MongoDB.\")\n",
    "\n",
    "json_to_mongo(\"data/datasets without embeddings/small_for_testing.json\", \"listings\", \"contoso_bookings\" )"
   ]
  },
  {
   "cell_type": "code",
   "execution_count": 4,
   "metadata": {},
   "outputs": [
    {
     "name": "stdout",
     "output_type": "stream",
     "text": [
      "Inserted 35864 documents into the 'Listings' collection in MongoDB.\n"
     ]
    }
   ],
   "source": [
    "import csv\n",
    "import glob\n",
    "from pymongo import MongoClient\n",
    "\n",
    "def csv_to_mongo(folder_path, mongo_uri, database_name, collection_name):\n",
    "    client = MongoClient(mongo_uri)\n",
    "    db = client[database_name]\n",
    "    collection = db[collection_name]\n",
    "    \n",
    "    combined_data = []\n",
    "    \n",
    "    for csv_file in glob.glob(f\"{folder_path}/*.csv\"):\n",
    "        with open(csv_file, encoding='utf-8') as csvf:\n",
    "            csvReader = csv.DictReader(csvf)\n",
    "            \n",
    "            for row in csvReader:\n",
    "                filtered_row = {key: row[key] for key in columns if key in row}\n",
    "                combined_data.append(filtered_row)\n",
    "\n",
    "    if combined_data:\n",
    "        collection.insert_many(combined_data)\n",
    "        print(f\"Inserted {len(combined_data)} documents into the '{collection_name}' collection in MongoDB.\")\n",
    "\n",
    "    client.close()\n",
    "\n",
    "# Specify parameters\n",
    "folder_path = 'data/csv'  # Path to the folder containing the CSV files\n",
    "mongo_uri = MONGO_CONNECTION_STRING\n",
    "database_name = 'contoso_bookings'  # Replace with your database name\n",
    "collection_name = 'Listings'  # Replace with your collection name\n",
    "\n",
    "# Call the function\n",
    "csv_to_mongo(folder_path, mongo_uri, database_name, collection_name)\n"
   ]
  }
 ],
 "metadata": {
  "kernelspec": {
   "display_name": ".venv",
   "language": "python",
   "name": "python3"
  },
  "language_info": {
   "codemirror_mode": {
    "name": "ipython",
    "version": 3
   },
   "file_extension": ".py",
   "mimetype": "text/x-python",
   "name": "python",
   "nbconvert_exporter": "python",
   "pygments_lexer": "ipython3",
   "version": "3.12.1"
  }
 },
 "nbformat": 4,
 "nbformat_minor": 2
}
