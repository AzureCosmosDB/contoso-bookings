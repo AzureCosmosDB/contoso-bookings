{
 "cells": [
  {
   "cell_type": "code",
   "execution_count": 11,
   "metadata": {},
   "outputs": [],
   "source": [
    "    # Define columns to extract\n",
    "columns = [\n",
    "        \"id\", \"listing_url\", \"source\", \"name\", \"description\",\n",
    "        \"neighborhood_overview\", \"latitude\", \"longitude\", \"price\",\n",
    "        \"amenities\", \"beds\", \"bedrooms\", \"bathrooms\", \"bathrooms_text\",\n",
    "        \"property_type\", \"room_type\", \"host_about\"\n",
    "    ]"
   ]
  },
  {
   "cell_type": "code",
   "execution_count": 26,
   "metadata": {},
   "outputs": [
    {
     "data": {
      "text/plain": [
       "True"
      ]
     },
     "execution_count": 26,
     "metadata": {},
     "output_type": "execute_result"
    }
   ],
   "source": [
    "from dotenv import load_dotenv\n",
    "import os\n",
    "\n",
    "load_dotenv(\"variables.env\", override=True)"
   ]
  },
  {
   "cell_type": "code",
   "execution_count": null,
   "metadata": {},
   "outputs": [],
   "source": [
    "from urllib.parse import quote_plus\n",
    "\n",
    "MONGO_CONNECTION_STRING= os.getenv(\"MONGO_CONNECTION_STRING_DISKANN\", \"<YOUR-COSMOS-DB-CONNECTION-STRING>\")\n",
    "# AOAI_KEY = os.getenv(\"AOAI_KEY\")\n",
    "# AOAI_ENDPOINT =  os.getenv(\"AOAI_ENDPOINT\")\n",
    "# API_VERSION =  os.getenv(\"API_VERSION\")\n",
    "# AOAI_EMBEDDING_DEPLOYMENT =  os.getenv(\"AOAI_EMBEDDING_DEPLOYMENT\")\n",
    "# AOAI_EMBEDDING_DEPLOYMENT_MODEL =  os.getenv(\"AOAI_EMBEDDING_DEPLOYMENT_MODEL\")"
   ]
  },
  {
   "cell_type": "code",
   "execution_count": 25,
   "metadata": {},
   "outputs": [
    {
     "name": "stdout",
     "output_type": "stream",
     "text": [
      "Inserted 35864 documents into the 'Listings' collection in MongoDB.\n"
     ]
    }
   ],
   "source": [
    "import csv\n",
    "import glob\n",
    "from pymongo import MongoClient\n",
    "\n",
    "def csv_to_mongo(folder_path, mongo_uri, database_name, collection_name):\n",
    "    # Define columns to keep\n",
    "    columns_to_keep = [\n",
    "        \"id\", \"listing_url\", \"name\", \"description\",\n",
    "        \"neighborhood_overview\", \"latitude\", \"longitude\", \"price\",\n",
    "        \"amenities\", \"beds\", \"bedrooms\", \"bathrooms\", \"bathrooms_text\",\n",
    "        \"property_type\", \"room_type\", \"host_about\"\n",
    "    ]\n",
    "    \n",
    "    # Connect to MongoDB\n",
    "    client = MongoClient(mongo_uri)\n",
    "    db = client[database_name]\n",
    "    collection = db[collection_name]\n",
    "    \n",
    "    # List to hold data from all files\n",
    "    combined_data = []\n",
    "    \n",
    "    # Read all CSV files in the specified folder\n",
    "    for csv_file in glob.glob(f\"{folder_path}/*.csv\"):\n",
    "        with open(csv_file, encoding='utf-8') as csvf:\n",
    "            csvReader = csv.DictReader(csvf)\n",
    "            \n",
    "            # Process each row in the CSV file\n",
    "            for row in csvReader:\n",
    "                # Filter row to include only specified columns\n",
    "                filtered_row = {key: row[key] for key in columns_to_keep if key in row}\n",
    "                combined_data.append(filtered_row)\n",
    "\n",
    "    # Insert data into MongoDB collection\n",
    "    if combined_data:\n",
    "        collection.insert_many(combined_data)\n",
    "        print(f\"Inserted {len(combined_data)} documents into the '{collection_name}' collection in MongoDB.\")\n",
    "\n",
    "    # Close the MongoDB connection\n",
    "    client.close()\n",
    "\n",
    "# Specify parameters\n",
    "folder_path = 'data'  # Path to the folder containing the CSV files\n",
    "mongo_uri = MONGO_CONNECTION_STRING\n",
    "database_name = 'Contoso_rental'  # Replace with your database name\n",
    "collection_name = 'Listings'  # Replace with your collection name\n",
    "\n",
    "# Call the function\n",
    "csv_to_mongo(folder_path, mongo_uri, database_name, collection_name)\n"
   ]
  },
  {
   "cell_type": "code",
   "execution_count": 14,
   "metadata": {},
   "outputs": [
    {
     "name": "stdout",
     "output_type": "stream",
     "text": [
      "Columns in the file:\n",
      "id\n",
      "listing_url\n",
      "scrape_id\n",
      "last_scraped\n",
      "source\n",
      "name\n",
      "description\n",
      "neighborhood_overview\n",
      "picture_url\n",
      "host_id\n",
      "host_url\n",
      "host_name\n",
      "host_since\n",
      "host_location\n",
      "host_about\n",
      "host_response_time\n",
      "host_response_rate\n",
      "host_acceptance_rate\n",
      "host_is_superhost\n",
      "host_thumbnail_url\n",
      "host_picture_url\n",
      "host_neighbourhood\n",
      "host_listings_count\n",
      "host_total_listings_count\n",
      "host_verifications\n",
      "host_has_profile_pic\n",
      "host_identity_verified\n",
      "neighbourhood\n",
      "neighbourhood_cleansed\n",
      "neighbourhood_group_cleansed\n",
      "latitude\n",
      "longitude\n",
      "property_type\n",
      "room_type\n",
      "accommodates\n",
      "bathrooms\n",
      "bathrooms_text\n",
      "bedrooms\n",
      "beds\n",
      "amenities\n",
      "price\n",
      "minimum_nights\n",
      "maximum_nights\n",
      "minimum_minimum_nights\n",
      "maximum_minimum_nights\n",
      "minimum_maximum_nights\n",
      "maximum_maximum_nights\n",
      "minimum_nights_avg_ntm\n",
      "maximum_nights_avg_ntm\n",
      "calendar_updated\n",
      "has_availability\n",
      "availability_30\n",
      "availability_60\n",
      "availability_90\n",
      "availability_365\n",
      "calendar_last_scraped\n",
      "number_of_reviews\n",
      "number_of_reviews_ltm\n",
      "number_of_reviews_l30d\n",
      "first_review\n",
      "last_review\n",
      "review_scores_rating\n",
      "review_scores_accuracy\n",
      "review_scores_cleanliness\n",
      "review_scores_checkin\n",
      "review_scores_communication\n",
      "review_scores_location\n",
      "review_scores_value\n",
      "license\n",
      "instant_bookable\n",
      "calculated_host_listings_count\n",
      "calculated_host_listings_count_entire_homes\n",
      "calculated_host_listings_count_private_rooms\n",
      "calculated_host_listings_count_shared_rooms\n",
      "reviews_per_month\n"
     ]
    }
   ],
   "source": [
    "import pandas as pd\n",
    "\n",
    "def list_columns(file_path):\n",
    "    # Load the file to examine column names\n",
    "    df = pd.read_csv(file_path)\n",
    "    \n",
    "    # Print column names\n",
    "    print(\"Columns in the file:\")\n",
    "    for col in df.columns:\n",
    "        print(col)\n",
    "\n",
    "# Specify the path to the CSV file\n",
    "file_path = \"data/CO_listings.csv\"\n",
    "\n",
    "# Call the function\n",
    "list_columns(file_path)\n"
   ]
  },
  {
   "cell_type": "code",
   "execution_count": null,
   "metadata": {},
   "outputs": [],
   "source": [
    "id, listing_url, source, name, description, neighborhood_overview, latitude, longitude, price, amenities, beds, bedrooms, bathrooms, bathrooms_text, property_type, room_type, host_about, "
   ]
  },
  {
   "cell_type": "code",
   "execution_count": null,
   "metadata": {},
   "outputs": [],
   "source": []
  }
 ],
 "metadata": {
  "kernelspec": {
   "display_name": "Python 3",
   "language": "python",
   "name": "python3"
  },
  "language_info": {
   "codemirror_mode": {
    "name": "ipython",
    "version": 3
   },
   "file_extension": ".py",
   "mimetype": "text/x-python",
   "name": "python",
   "nbconvert_exporter": "python",
   "pygments_lexer": "ipython3",
   "version": "3.11.9"
  }
 },
 "nbformat": 4,
 "nbformat_minor": 2
}
