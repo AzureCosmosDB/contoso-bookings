{
 "cells": [
  {
   "cell_type": "code",
   "execution_count": 11,
   "metadata": {},
   "outputs": [],
   "source": [
    "    # Define columns to extract\n",
    "columns = [\n",
    "        \"id\", \"listing_url\", \"name\", \"description\",\n",
    "        \"neighborhood_overview\", \"latitude\", \"longitude\", \"price\",\n",
    "        \"amenities\", \"beds\", \"bedrooms\", \"bathrooms\", \"bathrooms_text\",\n",
    "        \"property_type\", \"room_type\", \"host_about\"\n",
    "    ]"
   ]
  },
  {
   "cell_type": "code",
   "execution_count": 26,
   "metadata": {},
   "outputs": [
    {
     "data": {
      "text/plain": [
       "True"
      ]
     },
     "execution_count": 26,
     "metadata": {},
     "output_type": "execute_result"
    }
   ],
   "source": [
    "from dotenv import load_dotenv\n",
    "import os\n",
    "\n",
    "load_dotenv(\"variables.env\", override=True)"
   ]
  },
  {
   "cell_type": "code",
   "execution_count": 27,
   "metadata": {},
   "outputs": [],
   "source": [
    "MONGO_CONNECTION_STRING= os.getenv(\"MONGO_CONNECTION_STRING_DISKANN\", \"<YOUR-COSMOS-DB-CONNECTION-STRING>\")\n",
    "# AOAI_KEY = os.getenv(\"AOAI_KEY\")\n",
    "# AOAI_ENDPOINT =  os.getenv(\"AOAI_ENDPOINT\")\n",
    "# API_VERSION =  os.getenv(\"API_VERSION\")\n",
    "# AOAI_EMBEDDING_DEPLOYMENT =  os.getenv(\"AOAI_EMBEDDING_DEPLOYMENT\")\n",
    "# AOAI_EMBEDDING_DEPLOYMENT_MODEL =  os.getenv(\"AOAI_EMBEDDING_DEPLOYMENT_MODEL\")"
   ]
  },
  {
   "cell_type": "code",
   "execution_count": 28,
   "metadata": {},
   "outputs": [
    {
     "name": "stdout",
     "output_type": "stream",
     "text": [
      "Inserted 35864 documents into the 'Listings' collection in MongoDB.\n"
     ]
    }
   ],
   "source": [
    "import csv\n",
    "import glob\n",
    "from pymongo import MongoClient\n",
    "\n",
    "def csv_to_mongo(folder_path, mongo_uri, database_name, collection_name):\n",
    "    client = MongoClient(mongo_uri)\n",
    "    db = client[database_name]\n",
    "    collection = db[collection_name]\n",
    "    \n",
    "    combined_data = []\n",
    "    \n",
    "    for csv_file in glob.glob(f\"{folder_path}/*.csv\"):\n",
    "        with open(csv_file, encoding='utf-8') as csvf:\n",
    "            csvReader = csv.DictReader(csvf)\n",
    "            \n",
    "            for row in csvReader:\n",
    "                filtered_row = {key: row[key] for key in columns if key in row}\n",
    "                combined_data.append(filtered_row)\n",
    "\n",
    "    if combined_data:\n",
    "        collection.insert_many(combined_data)\n",
    "        print(f\"Inserted {len(combined_data)} documents into the '{collection_name}' collection in MongoDB.\")\n",
    "\n",
    "    client.close()\n",
    "\n",
    "# Specify parameters\n",
    "folder_path = 'data'  # Path to the folder containing the CSV files\n",
    "mongo_uri = MONGO_CONNECTION_STRING\n",
    "database_name = 'Contoso_rental'  # Replace with your database name\n",
    "collection_name = 'Listings'  # Replace with your collection name\n",
    "\n",
    "# Call the function\n",
    "csv_to_mongo(folder_path, mongo_uri, database_name, collection_name)\n"
   ]
  }
 ],
 "metadata": {
  "kernelspec": {
   "display_name": "Python 3",
   "language": "python",
   "name": "python3"
  },
  "language_info": {
   "codemirror_mode": {
    "name": "ipython",
    "version": 3
   },
   "file_extension": ".py",
   "mimetype": "text/x-python",
   "name": "python",
   "nbconvert_exporter": "python",
   "pygments_lexer": "ipython3",
   "version": "3.11.9"
  }
 },
 "nbformat": 4,
 "nbformat_minor": 2
}
