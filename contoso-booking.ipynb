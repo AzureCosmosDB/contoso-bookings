{
 "cells": [
  {
   "cell_type": "code",
   "execution_count": 28,
   "metadata": {},
   "outputs": [],
   "source": [
    "# import pandas as pd\n",
    "from datetime import datetime, timedelta\n",
    "from pymongo import MongoClient, UpdateOne\n",
    "from azure.core.exceptions import AzureError\n",
    "from azure.core.credentials import AzureKeyCredential\n",
    "import json\n",
    "from openai import AzureOpenAI\n",
    "# from dotenv import dotenv_values\n",
    "import os\n",
    "# config = dotenv_values()"
   ]
  },
  {
   "cell_type": "code",
   "execution_count": 29,
   "metadata": {},
   "outputs": [],
   "source": [
    "from dotenv import load_dotenv\n",
    "\n",
    "# load_dotenv(\"variables.env\", override=True)\n",
    "\n",
    "MONGO_CONNECTION_STRING= os.getenv(\"MONGO_CONNECTION_STRING_DISKANN\")\n",
    "AOAI_KEY = os.getenv(\"AOAI_KEY\")\n",
    "AOAI_ENDPOINT =  os.getenv(\"AOAI_ENDPOINT\")\n",
    "API_VERSION =  os.getenv(\"API_VERSION\")"
   ]
  },
  {
   "cell_type": "code",
   "execution_count": 30,
   "metadata": {},
   "outputs": [
    {
     "name": "stdout",
     "output_type": "stream",
     "text": [
      "Using collection: 'listings'.\n",
      "\n"
     ]
    }
   ],
   "source": [
    "mongo_client = MongoClient(MONGO_CONNECTION_STRING)\n",
    "\n",
    "db = mongo_client['contoso_bookings']\n",
    "\n",
    "# Create collection if it doesn't exist\n",
    "COLLECTION_NAME = \"listings\"\n",
    "\n",
    "collection = db[COLLECTION_NAME]\n",
    "\n",
    "if COLLECTION_NAME not in db.list_collection_names():\n",
    "    db.create_collection(COLLECTION_NAME)\n",
    "    print(\"Created collection '{}'.\\n\".format(COLLECTION_NAME))\n",
    "else:\n",
    "    print(\"Using collection: '{}'.\\n\".format(COLLECTION_NAME))"
   ]
  },
  {
   "cell_type": "code",
   "execution_count": 31,
   "metadata": {},
   "outputs": [
    {
     "data": {
      "text/plain": [
       "{'raw': {'defaultShard': {'numIndexesBefore': 5,\n",
       "   'numIndexesAfter': 5,\n",
       "   'createdCollectionAutomatically': False,\n",
       "   'note': 'all indexes already exist',\n",
       "   'ok': 1}},\n",
       " 'ok': 1}"
      ]
     },
     "execution_count": 31,
     "metadata": {},
     "output_type": "execute_result"
    }
   ],
   "source": [
    "db.command({\n",
    "  'createIndexes': 'listings',\n",
    "  'indexes': [\n",
    "    {\n",
    "      'name': 'listingIndex',\n",
    "      'key': {\n",
    "        \"embeddings\": \"cosmosSearch\"\n",
    "      },\n",
    "      'cosmosSearchOptions': {\n",
    "        'kind': 'vector-diskann',\n",
    "        'numLists': 1,\n",
    "        'similarity': 'COS',\n",
    "        'dimensions': 1536\n",
    "      }\n",
    "    }\n",
    "  ]\n",
    "})"
   ]
  },
  {
   "cell_type": "code",
   "execution_count": 32,
   "metadata": {},
   "outputs": [
    {
     "name": "stdout",
     "output_type": "stream",
     "text": [
      "{'id': '360', 'listing_url': 'https://www.airbnb.com/rooms/360', 'source': 'city scrape', 'name': 'Sit in the Peaceful Garden of the Chickadee Cottage in LoHi', 'description': \"Enjoy the famous Colorado weather and unplug in indoor & outdoor living. <br />Our charming cottage has a serene ambiance throughout every area. <br />Spend a sunny afternoon out on the hammock or enjoy the garden parlor sofa relax, read, or play a game, sink into the shared hot tub, practice yoga on the deck.<br />We are located next to downtown and in the neighborhood of lower highlands, <br />Short walks to superb coffee shops, restaurants, microbrews, distilleries, dispensaries & downtown. We are 420 outdoors only. LGBT Friendly, allergy-free, fragrance-free & pet-free. Ozone sterilized.<br /><br />Chickadee Cottage is the largest of our guest cottages.<br /><br />LOCATION: <br />The cottage is located in the center of Lower Highlands (LOHI) next to the Navajo Street Arts District along with the Bug Theater. Check out the Bugs listing to see what's going on - plays/film/comedy nights. No need to cab it because we are in the midst of it all.<br /><br />COTTAGE DESCRIPTION: <br /><br\", 'neighborhood_overview': 'The cottage is located in the center of Lower Highlands (LOHI) next to the Navajo Street Arts District. Catch a show at the iconic Bug Theater. Wandering the neighborhood to discover breweries, distilleries and bars for local drinks, tuck into a family owned taqueria or explore more formal dinning experience. We are a vibrant neighborhood in Denver where you can see and do but just a quick walk thru the park to downtown, or a mile drive to RiNo. We are just 2.5 mile walk or dirve to Meow Wolf.', 'latitude': '39.766414642333984', 'longitude': '-105.0020980834961', 'price': '$161.00', 'amenities': '[\"Hangers\", \"Essentials\", \"Dedicated workspace\", \"Microwave\", \"Shampoo\", \"Hair dryer\", \"Oven\", \"Stainless steel gas stove\", \"Dishes and silverware\", \"Single level home\", \"Shared backyard \\\\u2013 Fully fenced\", \"Self check-in\", \"Smoke alarm\", \"Board games\", \"Hammock\", \"First aid kit\", \"Body soap\", \"Carbon monoxide alarm\", \"Fire extinguisher\", \"Luggage dropoff allowed\", \"Outdoor dining area\", \"Shared patio or balcony\", \"Heating\", \"Kitchen\", \"Fire pit\", \"Refrigerator\", \"Cooking basics\", \"Shared hot tub\", \"Extra pillows and blankets\", \"TV with Hulu, HBO Max, Netflix, Roku\", \"BBQ grill\", \"Free washer \\\\u2013 In unit\", \"Courtyard view\", \"Central air conditioning\", \"Ceiling fan\", \"Free street parking\", \"Long term stays allowed\", \"Room-darkening shades\", \"Coffee maker: espresso machine\", \"Outdoor furniture\", \"Iron\", \"Hot water kettle\", \"Keypad\", \"Wifi \\\\u2013 36 Mbps\", \"Bed linens\", \"Exterior security cameras on property\", \"Free dryer \\\\u2013 In unit\", \"Bathtub\"]', 'beds': '2', 'bedrooms': '2', 'bathrooms': '1.0', 'bathrooms_text': '1 bath', 'property_type': 'Entire guesthouse', 'room_type': 'Entire home/apt', 'host_about': 'We are artists and tinkerers.\\n \\nWe enjoy many activities here in Denver -  cooking, growing fruits and vegetables are some that we get to do here at the cottages along with mixed media projects and furniture building. \\n\\nWe are always up to some new outdoor project when the Colorado weather permits and hunker down inside by the fire in the winter keeping our hands busy with knitting, card making or some other project we can dream up.   In fact the most recent outdoor project is for an outdoor parlor that will be winter friendly. \\n\\nGiovanni and I have grown in our collaborations and embrace our age and abilities  for self governance in employment - Giovanni had moved into documentaries and I have been spending more time in the commercial film community. \\n\\nWe have been in the lower highlands for over a decade now and have marveled in the changing landscape and exciting times for new restaurants, breweries and galleries.  We still love to take advantage of the great walks thru the neighborhood and down by the river as often as we can. \\n'}\n"
     ]
    }
   ],
   "source": [
    "# Load JSON data from file\n",
    "with open(\"data/datasets without embeddings/small_for_testing.json\", 'r') as file:\n",
    "    data = json.load(file)\n",
    "\n",
    "print(data[0])"
   ]
  },
  {
   "cell_type": "code",
   "execution_count": 33,
   "metadata": {},
   "outputs": [
    {
     "name": "stdout",
     "output_type": "stream",
     "text": [
      "[]\n",
      "All rows have been updated. Total updated rows: 0\n"
     ]
    }
   ],
   "source": [
    "import time\n",
    "batch_size = 100\n",
    "total_updated = 0\n",
    "iteration = 0\n",
    "\n",
    "while True:\n",
    "    iteration += 1\n",
    "\n",
    "    # Find records to update\n",
    "    # NOTE: This does not seem to handle projections, is it possible to do this another way without stuffing the desired data into one field?\n",
    "    # records_to_update = collection.aggregate([\n",
    "    #     {\n",
    "    #     '$match': {\n",
    "    #             '$and': [\n",
    "    #                 {'embeddings': {'$exists': False}},\n",
    "    #                 {'description': {'$exists': True}}\n",
    "    #             ]\n",
    "    #         }\n",
    "    #     },\n",
    "    #     {\n",
    "    #         '$project': {\n",
    "    #             'data_to_embed': {\n",
    "    #                 '$concat': [\n",
    "    #                     {'$ifNull': ['$name', '']},\n",
    "    #                     ' ',\n",
    "    #                     {'$ifNull': ['$description', '']},\n",
    "    #                     ' ',\n",
    "    #                     {'$ifNull': ['$neighborhood_overview', '']}\n",
    "    #                 ]\n",
    "    #             }\n",
    "    #         }\n",
    "    #     },\n",
    "    #     {\n",
    "    #         \"$limit\": batch_size \n",
    "    #     }\n",
    "    # ])\n",
    "\n",
    "    records_to_update = collection.find({\n",
    "    '$and': [\n",
    "        {'embeddings': {'$exists': False}},\n",
    "        {'description': {'$exists': True}}\n",
    "    ]\n",
    "    }).limit(batch_size)\n",
    "\n",
    "    records_to_update = list(records_to_update)\n",
    "    print(records_to_update)\n",
    "\n",
    "    if not records_to_update:\n",
    "        print(f\"All rows have been updated. Total updated rows: {total_updated}\")\n",
    "        break\n",
    "\n",
    "    total_updated += len(records_to_update)\n",
    "\n",
    "    print(f\"Iteration: {iteration}, has handled {total_updated} rows\")\n",
    "\n",
    "    # Prepare bulk operations\n",
    "    bulk_ops = [\n",
    "        UpdateOne({'_id': record['_id']},\n",
    "                {'$generateEmbeddings': {'data_to_embed': 'embeddings'}})\n",
    "        for record in records_to_update\n",
    "    ]\n",
    "\n",
    "    if bulk_ops:\n",
    "        result = collection.bulk_write(bulk_ops)\n",
    "        print(f\"Bulk write result: {result.bulk_api_result}\")\n",
    "\n",
    "    time.sleep(0.5)  # Sleep for 500 ms\n"
   ]
  },
  {
   "cell_type": "code",
   "execution_count": 34,
   "metadata": {},
   "outputs": [],
   "source": [
    "# Define the user's location\n",
    "user_location = {\n",
    "    \"type\": \"Point\",\n",
    "    \"coordinates\": [-105.0020980834961, 39.766414642333984]  # User's location (longitude, latitude)\n",
    "}"
   ]
  },
  {
   "cell_type": "code",
   "execution_count": 35,
   "metadata": {},
   "outputs": [
    {
     "data": {
      "text/plain": [
       "{'raw': {'defaultShard': {'numIndexesBefore': 5,\n",
       "   'numIndexesAfter': 5,\n",
       "   'createdCollectionAutomatically': False,\n",
       "   'note': 'all indexes already exist',\n",
       "   'ok': 1}},\n",
       " 'ok': 1}"
      ]
     },
     "execution_count": 35,
     "metadata": {},
     "output_type": "execute_result"
    }
   ],
   "source": [
    "command = {\n",
    "    \"createIndexes\": \"listings\",\n",
    "    \"indexes\": [\n",
    "        {\n",
    "            \"key\": {\n",
    "                \"location\": \"2dsphere\"\n",
    "            },\n",
    "\n",
    "            \"name\": \"location_index\"\n",
    "        }\n",
    "    ]\n",
    "}\n",
    "db.command(command)\n"
   ]
  },
  {
   "cell_type": "code",
   "execution_count": 94,
   "metadata": {},
   "outputs": [
    {
     "data": {
      "text/plain": [
       "'amenities_1'"
      ]
     },
     "execution_count": 94,
     "metadata": {},
     "output_type": "execute_result"
    }
   ],
   "source": [
    "collection.create_index('amenities')"
   ]
  },
  {
   "cell_type": "code",
   "execution_count": null,
   "metadata": {},
   "outputs": [],
   "source": [
    "\n",
    "def search_listings(query, limit=5):\n",
    "   # Create an index on the location field\n",
    "   # TODO: Keyword search \n",
    "    command = { \"createIndexes\": \"listings\", \"indexes\": [ { \"key\": { \"location\": 1 }, \"name\": \"location\" } ] }\n",
    "    db.command(command)\n",
    "\n",
    "    # Search for the top 5 closest vectors to the query within a 30 mile radius of user's location\n",
    "    pipeline = [\n",
    "                {\n",
    "                    \"$search\": {\n",
    "                        \"cosmosSearch\": {\n",
    "                            \"path\": \"embeddings\",\n",
    "                            \"query\": query,  # Replace with your query\n",
    "                            \"k\": 5,  # Limit to top 5 closest vectors\n",
    "                            \"filter\": {\"$and\": [\n",
    "                                { \"amenities\": { \"$in\": [\"Dishwasher\", \"Microwave\"] } },\n",
    "                                #  The query converts the distance to radians by dividing by the approximate equatorial radius of the earth, 3963.2 miles\n",
    "                                {\"location\": {\"$geoWithin\": \n",
    "                                                {\"$centerSphere\":[user_location[\"coordinates\"], 30/3963.2 ]}}}\n",
    "                                ]\n",
    "                            }\n",
    "                        }\n",
    "                    }\n",
    "                },\n",
    "                {\n",
    "\n",
    "                    \"$limit\": 5  # Limit to top 5 results\n",
    "                },\n",
    "                {\n",
    "                    '$project': { 'similarityScore': { '$meta': 'searchScore' }, 'document' : '$$ROOT' }, \n",
    "\n",
    "                }\n",
    "            ]\n",
    "    # Execute the aggregation\n",
    "    results = collection.aggregate(pipeline)\n",
    "    \n",
    "\n",
    "    # Print the results\n",
    "    for doc in results:\n",
    "\n",
    "        print(f\"Similarity Score: {doc['similarityScore']}\")  \n",
    "        print(f\"id: {doc['_id']}\")  \n",
    "        print(f\"Location: {doc['document'].get('location', 'N/A')}\")  \n",
    "        print(f\"Description: {doc['document'].get('description', 'N/A')}\")  \n",
    "        print(f\"Nighborhood Overview: {doc['document'].get('neighborhood_overview', 'N/A')}\")\n",
    "        print(f\"Price per day: {doc['document'].get('price', 'N/A')}\") \n",
    "        print(f\"Amenities: {doc['document'].get('amenities', 'N/A')}\")\n",
    "        print(f\"Listing Url: {doc['document'].get('listing_url', 'N/A')}\\n\") \n",
    "\n"
   ]
  },
  {
   "cell_type": "code",
   "execution_count": 107,
   "metadata": {},
   "outputs": [
    {
     "name": "stdout",
     "output_type": "stream",
     "text": [
      "Similarity Score: 0.8678984563290169\n",
      "id: 6722ee7991bc8b29de105f6c\n",
      "Location: {'type': 'Point', 'coordinates': [-104.93183, 39.75742]}\n",
      "Description: A remodeled space in a great Denver neighborhood with a separate and secure keyless entrance.  Just 2 blocks from recently opened café, brew house, wine bar and pizza joint.  If you prefer to stay in, there’s a kitchen, living room, workout space and bath.  Don’t forget you will also have access to the hot tub.  Enjoy a comfortable queen bed and take advantage of the provided coffee to get your day started.  If you have a larger party please inquire about our 2 bedroom suite option.\n",
      "Nighborhood Overview: \n",
      "Price per day: $117.00\n",
      "Amenities: ['Hot tub', 'Hangers', 'Essentials', 'Dishwasher', 'Microwave', 'Shampoo', 'Hair dryer', 'Oven', 'Dishes and silverware', 'Smoke alarm', 'Exercise equipment', 'Carbon monoxide alarm', 'Fire extinguisher', 'Heating', 'Kitchen', 'Gym', 'Refrigerator', 'Private entrance', 'Cooking basics', 'Backyard', 'Hot water', 'Coffee maker', 'Central air conditioning', 'Free street parking', 'Patio or balcony', 'Stainless steel electric stove', 'Iron', 'Wifi', 'Bed linens', 'Exterior security cameras on property', 'TV', '[\"Hangers\", \"Essentials\", \"Toaster\", \"Dedicated workspace\", \"Microwave\", \"Shampoo\", \"Hair dryer\", \"Oven\", \"Dishes and silverware\", \"Air conditioning\", \"Self check-in\", \"Smoke alarm\", \"Dining table\", \"Freezer\", \"Body soap\", \"Carbon monoxide alarm\", \"Fire extinguisher\", \"Wine glasses\", \"Luggage dropoff allowed\", \"Outdoor dining area\", \"Cleaning products\", \"Breakfast\", \"Kitchen\", \"Refrigerator\", \"Private entrance\", \"Cooking basics\", \"Extra pillows and blankets\", \"Backyard\", \"Hot water\", \"Coffee maker\", \"Laundromat nearby\", \"Free street parking\", \"Long term stays allowed\", \"High chair\", \"Patio or balcony\", \"Outdoor furniture\", \"Central heating\", \"Iron\", \"Hot water kettle\", \"Keypad\", \"Coffee\", \"Pack \\\\u2019n play/Travel crib\", \"Children\\\\u2019s books and toys\", \"Stove\", \"Wifi\", \"Bed linens\", \"Bathtub\"]']\n",
      "Listing Url: https://www.airbnb.com/rooms/37567133\n",
      "\n"
     ]
    }
   ],
   "source": [
    "query = \"quiet home with hot tub\"\n",
    "\n",
    "search_listings(query)"
   ]
  }
 ],
 "metadata": {
  "kernelspec": {
   "display_name": ".venv",
   "language": "python",
   "name": "python3"
  },
  "language_info": {
   "codemirror_mode": {
    "name": "ipython",
    "version": 3
   },
   "file_extension": ".py",
   "mimetype": "text/x-python",
   "name": "python",
   "nbconvert_exporter": "python",
   "pygments_lexer": "ipython3",
   "version": "3.12.1"
  }
 },
 "nbformat": 4,
 "nbformat_minor": 2
}
