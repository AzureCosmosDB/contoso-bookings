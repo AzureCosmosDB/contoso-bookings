{
 "cells": [
  {
   "cell_type": "code",
   "execution_count": 1,
   "metadata": {},
   "outputs": [],
   "source": [
    "import pandas as pd\n",
    "import random\n",
    "from datetime import datetime, timedelta\n",
    "from pymongo import MongoClient\n",
    "from azure.core.exceptions import AzureError\n",
    "from azure.core.credentials import AzureKeyCredential\n",
    "import json\n",
    "import urllib \n",
    "from openai import AzureOpenAI\n",
    "from dotenv import dotenv_values\n",
    "import os\n",
    "config = dotenv_values()"
   ]
  },
  {
   "cell_type": "code",
   "execution_count": 2,
   "metadata": {},
   "outputs": [],
   "source": [
    "from dotenv import load_dotenv\n",
    "\n",
    "load_dotenv(\"variables.env\", override=True)\n",
    "\n",
    "MONGO_CONNECTION_STRING= os.getenv(\"MONGO_CONNECTION_STRING_DISKANN\", \"<YOUR-COSMOS-DB-CONNECTION-STRING>\")\n",
    "AOAI_KEY = os.getenv(\"AOAI_KEY\")\n",
    "AOAI_ENDPOINT =  os.getenv(\"AOAI_ENDPOINT\")\n",
    "API_VERSION =  os.getenv(\"API_VERSION\")\n",
    "AOAI_EMBEDDING_DEPLOYMENT =  os.getenv(\"AOAI_EMBEDDING_DEPLOYMENT\")\n",
    "AOAI_EMBEDDING_DEPLOYMENT_MODEL =  os.getenv(\"AOAI_EMBEDDING_DEPLOYMENT_MODEL\")\n",
    "\n",
    "\n",
    "client = AzureOpenAI(\n",
    "  azure_endpoint= AOAI_ENDPOINT,\n",
    "  api_key=AOAI_KEY,  \n",
    "  api_version=API_VERSION\n",
    ")"
   ]
  },
  {
   "cell_type": "code",
   "execution_count": 3,
   "metadata": {},
   "outputs": [],
   "source": [
    "def generate_embedding(text):\n",
    "    response = client.embeddings.create(\n",
    "        model=AOAI_EMBEDDING_DEPLOYMENT_MODEL,\n",
    "        input=text\n",
    "    )\n",
    "    return response.data[0].embedding"
   ]
  },
  {
   "cell_type": "code",
   "execution_count": 4,
   "metadata": {},
   "outputs": [
    {
     "name": "stdout",
     "output_type": "stream",
     "text": [
      "Created collection 'Listings_with_embeddings'.\n",
      "\n"
     ]
    }
   ],
   "source": [
    "mongo_conn = MONGO_CONNECTION_STRING\n",
    "mongo_client = MongoClient(mongo_conn)\n",
    "\n",
    "db = mongo_client['Contoso_rental']\n",
    "\n",
    "# Create collection if it doesn't exist\n",
    "COLLECTION_NAME = \"Listings_with_embeddings\"\n",
    "\n",
    "collection = db[COLLECTION_NAME]\n",
    "\n",
    "if COLLECTION_NAME not in db.list_collection_names():\n",
    "    db.create_collection(COLLECTION_NAME)\n",
    "    print(\"Created collection '{}'.\\n\".format(COLLECTION_NAME))\n",
    "else:\n",
    "    print(\"Using collection: '{}'.\\n\".format(COLLECTION_NAME))"
   ]
  },
  {
   "cell_type": "code",
   "execution_count": 6,
   "metadata": {},
   "outputs": [
    {
     "data": {
      "text/plain": [
       "{'raw': {'defaultShard': {'numIndexesBefore': 1,\n",
       "   'numIndexesAfter': 2,\n",
       "   'createdCollectionAutomatically': False,\n",
       "   'ok': 1}},\n",
       " 'ok': 1}"
      ]
     },
     "execution_count": 6,
     "metadata": {},
     "output_type": "execute_result"
    }
   ],
   "source": [
    "db.command({\n",
    "  'createIndexes': 'Listings',\n",
    "  'indexes': [\n",
    "    {\n",
    "      'name': 'listingIndex',\n",
    "      'key': {\n",
    "        \"Embedding\": \"cosmosSearch\"\n",
    "      },\n",
    "      'cosmosSearchOptions': {\n",
    "        'kind': 'vector-diskann',\n",
    "        'numLists': 1,\n",
    "        'similarity': 'COS',\n",
    "        'dimensions': 2000\n",
    "      }\n",
    "    }\n",
    "  ]\n",
    "})"
   ]
  },
  {
   "cell_type": "code",
   "execution_count": 15,
   "metadata": {},
   "outputs": [
    {
     "name": "stdout",
     "output_type": "stream",
     "text": [
      "{'id': '360', 'listing_url': 'https://www.airbnb.com/rooms/360', 'source': 'city scrape', 'name': 'Sit in the Peaceful Garden of the Chickadee Cottage in LoHi', 'description': \"Enjoy the famous Colorado weather and unplug in indoor & outdoor living. <br />Our charming cottage has a serene ambiance throughout every area. <br />Spend a sunny afternoon out on the hammock or enjoy the garden parlor sofa relax, read, or play a game, sink into the shared hot tub, practice yoga on the deck.<br />We are located next to downtown and in the neighborhood of lower highlands, <br />Short walks to superb coffee shops, restaurants, microbrews, distilleries, dispensaries & downtown. We are 420 outdoors only. LGBT Friendly, allergy-free, fragrance-free & pet-free. Ozone sterilized.<br /><br />Chickadee Cottage is the largest of our guest cottages.<br /><br />LOCATION: <br />The cottage is located in the center of Lower Highlands (LOHI) next to the Navajo Street Arts District along with the Bug Theater. Check out the Bugs listing to see what's going on - plays/film/comedy nights. No need to cab it because we are in the midst of it all.<br /><br />COTTAGE DESCRIPTION: <br /><br\", 'neighborhood_overview': 'The cottage is located in the center of Lower Highlands (LOHI) next to the Navajo Street Arts District. Catch a show at the iconic Bug Theater. Wandering the neighborhood to discover breweries, distilleries and bars for local drinks, tuck into a family owned taqueria or explore more formal dinning experience. We are a vibrant neighborhood in Denver where you can see and do but just a quick walk thru the park to downtown, or a mile drive to RiNo. We are just 2.5 mile walk or dirve to Meow Wolf.', 'latitude': '39.766414642333984', 'longitude': '-105.0020980834961', 'price': '$161.00', 'amenities': '[\"Hangers\", \"Essentials\", \"Dedicated workspace\", \"Microwave\", \"Shampoo\", \"Hair dryer\", \"Oven\", \"Stainless steel gas stove\", \"Dishes and silverware\", \"Single level home\", \"Shared backyard \\\\u2013 Fully fenced\", \"Self check-in\", \"Smoke alarm\", \"Board games\", \"Hammock\", \"First aid kit\", \"Body soap\", \"Carbon monoxide alarm\", \"Fire extinguisher\", \"Luggage dropoff allowed\", \"Outdoor dining area\", \"Shared patio or balcony\", \"Heating\", \"Kitchen\", \"Fire pit\", \"Refrigerator\", \"Cooking basics\", \"Shared hot tub\", \"Extra pillows and blankets\", \"TV with Hulu, HBO Max, Netflix, Roku\", \"BBQ grill\", \"Free washer \\\\u2013 In unit\", \"Courtyard view\", \"Central air conditioning\", \"Ceiling fan\", \"Free street parking\", \"Long term stays allowed\", \"Room-darkening shades\", \"Coffee maker: espresso machine\", \"Outdoor furniture\", \"Iron\", \"Hot water kettle\", \"Keypad\", \"Wifi \\\\u2013 36 Mbps\", \"Bed linens\", \"Exterior security cameras on property\", \"Free dryer \\\\u2013 In unit\", \"Bathtub\"]', 'beds': '2', 'bedrooms': '2', 'bathrooms': '1.0', 'bathrooms_text': '1 bath', 'property_type': 'Entire guesthouse', 'room_type': 'Entire home/apt', 'host_about': 'We are artists and tinkerers.\\n \\nWe enjoy many activities here in Denver -  cooking, growing fruits and vegetables are some that we get to do here at the cottages along with mixed media projects and furniture building. \\n\\nWe are always up to some new outdoor project when the Colorado weather permits and hunker down inside by the fire in the winter keeping our hands busy with knitting, card making or some other project we can dream up.   In fact the most recent outdoor project is for an outdoor parlor that will be winter friendly. \\n\\nGiovanni and I have grown in our collaborations and embrace our age and abilities  for self governance in employment - Giovanni had moved into documentaries and I have been spending more time in the commercial film community. \\n\\nWe have been in the lower highlands for over a decade now and have marveled in the changing landscape and exciting times for new restaurants, breweries and galleries.  We still love to take advantage of the great walks thru the neighborhood and down by the river as often as we can. \\n'}\n"
     ]
    }
   ],
   "source": [
    "# Load JSON data from file\n",
    "with open(\"datasets without embeddings\\small_for_testing.json\", 'r') as file:\n",
    "    data = json.load(file)\n",
    "\n",
    "print(data[0])"
   ]
  },
  {
   "cell_type": "code",
   "execution_count": null,
   "metadata": {},
   "outputs": [],
   "source": []
  }
 ],
 "metadata": {
  "kernelspec": {
   "display_name": "Python 3",
   "language": "python",
   "name": "python3"
  },
  "language_info": {
   "codemirror_mode": {
    "name": "ipython",
    "version": 3
   },
   "file_extension": ".py",
   "mimetype": "text/x-python",
   "name": "python",
   "nbconvert_exporter": "python",
   "pygments_lexer": "ipython3",
   "version": "3.11.9"
  }
 },
 "nbformat": 4,
 "nbformat_minor": 2
}
